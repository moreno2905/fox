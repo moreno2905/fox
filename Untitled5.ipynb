{
  "nbformat": 4,
  "nbformat_minor": 0,
  "metadata": {
    "colab": {
      "provenance": []
    },
    "kernelspec": {
      "name": "python3",
      "display_name": "Python 3"
    },
    "language_info": {
      "name": "python"
    }
  },
  "cells": [
    {
      "cell_type": "code",
      "source": [
        "from flask import Flask, request, jsonify\n",
        "from sqlalchemy import create_engine\n",
        "import pandas as pd\n",
        "import urllib.parse\n"
      ],
      "metadata": {
        "id": "RR5OcVcY1kjV"
      },
      "execution_count": null,
      "outputs": []
    },
    {
      "cell_type": "code",
      "source": [
        "# Parámetros de conexión Sales-Operations\n",
        "dbname = 'fox-track'\n",
        "user = 'data2'\n",
        "password = 'JM%vA0hf!pc'\n",
        "encode_password2 = urllib.parse.quote_plus(password)\n",
        "host = '162.243.164.24'\n",
        "port= '5432'  # El puerto por defecto es 543\n",
        "\n",
        "# Crear la cadena de conexión\n",
        "connection = f'postgresql+psycopg2://{user}:{encode_password2}@{host}:{port}/{dbname}'\n",
        "\n",
        "# Crear el motor de conexión\n",
        "engine = create_engine(connection)\n",
        "\n",
        "# Iniciar la app Flask\n",
        "app = Flask(__name__)\n",
        "\n",
        "@app.route('/query', methods=['GET'])\n",
        "def query_postgres():\n",
        "    try:\n",
        "        # Aquí puedes poner cualquier query\n",
        "        sql = \"SELECT * FROM leads_client LIMIT 10\"\n",
        "\n",
        "        # Ejecutar el query usando pandas\n",
        "        df = pd.read_sql(sql, engine)\n",
        "\n",
        "        # Convertir el DataFrame a JSON\n",
        "        result = df.to_dict(orient='records')\n",
        "        return jsonify(result)\n",
        "\n",
        "    except Exception as e:\n",
        "        return jsonify({\"error\": str(e)})\n",
        "\n",
        "if __name__ == '__main__':\n",
        "    app.run(port=5000)"
      ],
      "metadata": {
        "colab": {
          "base_uri": "https://localhost:8080/"
        },
        "id": "Z5mr6iy51nrm",
        "outputId": "d88bfde2-a0c5-4e7b-bb2e-6a296e92f722"
      },
      "execution_count": null,
      "outputs": [
        {
          "metadata": {
            "tags": null
          },
          "name": "stdout",
          "output_type": "stream",
          "text": [
            " * Serving Flask app '__main__'\n",
            " * Debug mode: off\n"
          ]
        },
        {
          "metadata": {
            "tags": null
          },
          "name": "stderr",
          "output_type": "stream",
          "text": [
            "INFO:werkzeug:\u001b[31m\u001b[1mWARNING: This is a development server. Do not use it in a production deployment. Use a production WSGI server instead.\u001b[0m\n",
            " * Running on http://127.0.0.1:5000\n",
            "INFO:werkzeug:\u001b[33mPress CTRL+C to quit\u001b[0m\n"
          ]
        }
      ]
    }
  ]
}